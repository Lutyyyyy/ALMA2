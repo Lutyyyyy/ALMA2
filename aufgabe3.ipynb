{
 "cells": [
  {
   "cell_type": "markdown",
   "metadata": {},
   "source": [
    "##  Programmieraufgabe 3: Zuf&auml;llige Teilmengen und Monte Carlo Simulation"
   ]
  },
  {
   "cell_type": "markdown",
   "metadata": {},
   "source": [
    "<span style=\"color:red; font-weight: bold\">Wichtig: Damit alle ben&ouml;tigten Pakete richtig eingebunden werden, f&uuml;hren Sie die n&auml;chste Zelle einmal aus, sobald Sie das Notebook neu &ouml;ffnen.</span>"
   ]
  },
  {
   "cell_type": "code",
   "execution_count": 1,
   "metadata": {},
   "outputs": [],
   "source": [
    "# some setup\n",
    "%matplotlib inline\n",
    "import numpy as np # makes numpy routines and data types available as np.[name ouf routine or data type]\n",
    "import matplotlib.pyplot as plt # makes plotting command available as plot.[name of command]\n",
    "\n",
    "from ipywidgets import interactive\n",
    "import random\n",
    "random.seed(\"MirkisUsoltsevaLevchenko\")"
   ]
  },
  {
   "cell_type": "markdown",
   "metadata": {},
   "source": [
    "a) Implementieren Sie einen Algorithmus, der eine (pseudo)zufällige $n$-elementige Teilmenge aus der Menge $\\{1,\\ldots,m\\}$ auswählt. Die Teilmenge kann als Liste gespeichert werden, und soll über eine Funktion $\\texttt{rsubset[m,n]}$ abrufbar sein.\n",
    "\n",
    "Hinweis: Erstellen Sie zuerst die Liste mit den Zahlen $1$ bis $m$. Um ein zuf&auml;lliges Element der Liste $\\texttt{Liste}$ auszuw&auml;hlen, k&ouml;nnen Sie die Funktion $\\texttt{random}.\\texttt{choice(Liste)}$ benutzen. Ein Element $z$ kann mit $\\texttt{Liste}.\\texttt{remove(z)}$ aus der Liste entfernt werden."
   ]
  },
  {
   "cell_type": "code",
   "execution_count": 21,
   "metadata": {},
   "outputs": [
    {
     "name": "stdout",
     "output_type": "stream",
     "text": [
      "[99, 7, 36, 22, 11, 76, 80, 45, 98, 44]\n"
     ]
    }
   ],
   "source": [
    "# Fuegen Sie hier Ihre Loesung ein.\n",
    "def rsubset (m : int, n : int):\n",
    "    lst = list(range(1, m + 1))\n",
    "    result = []\n",
    "\n",
    "    for _ in range(n):\n",
    "        temp = random.choice(lst)\n",
    "        result.append(temp)\n",
    "        lst.remove(temp)\n",
    "    return result\n",
    "\n",
    "print(rsubset(100, 10))"
   ]
  },
  {
   "cell_type": "markdown",
   "metadata": {
    "collapsed": true
   },
   "source": [
    "b) Verwenden Sie die Funktion $\\texttt{rsubset[m,n]}$ um eine Funktion $\\texttt{rhypgeom[m,r,n]}$ zu definieren, die eine Stichprobe von der hypergeometrischen Verteilung mit Parametern $m$, $r$ und $n$ erzeugt."
   ]
  },
  {
   "cell_type": "code",
   "execution_count": 22,
   "metadata": {},
   "outputs": [
    {
     "name": "stdout",
     "output_type": "stream",
     "text": [
      "7\n"
     ]
    }
   ],
   "source": [
    "# Fuegen Sie hier Ihre Loesung ein.\n",
    "def rhypgeom (m : int, r : int, n : int):\n",
    "    values = rsubset(m, n)\n",
    "    result = 0\n",
    "    for v in values:\n",
    "        if v <= r: result += 1\n",
    "    return result\n",
    "\n",
    "print(rhypgeom(30, 10, 20))"
   ]
  },
  {
   "cell_type": "markdown",
   "metadata": {},
   "source": [
    "c) Ziehen Sie nun $N=1000$ Stichproben der hypergeometrischen Verteilung mit Parametern $m=30$, $r=10$, $n=20$ und plotten Sie ein Histogram der empirischen Verteilung."
   ]
  },
  {
   "cell_type": "code",
   "execution_count": 23,
   "metadata": {},
   "outputs": [
    {
     "data": {
      "image/png": "[encoded data removed]",
      "text/plain": [
       "<Figure size 640x480 with 1 Axes>"
      ]
     },
     "metadata": {},
     "output_type": "display_data"
    }
   ],
   "source": [
    "# Fuegen Sie hier Ihre Loesung ein.\n",
    "def get_hypgeom_trials_list(nTrials : int, m : int, r : int, n : int):\n",
    "    trials_list = np.zeros(nTrials)\n",
    "    for i in range(nTrials):\n",
    "        trials_list[i] = rhypgeom(m, r, n)\n",
    "    return trials_list\n",
    "\n",
    "nTrials = 1000\n",
    "z = get_hypgeom_trials_list(nTrials, m = 30, r = 10, n = 20)\n",
    "\n",
    "right_border = 12\n",
    "counts, edges = np.histogram(z, np.arange(0, right_border, 1), density=True)\n",
    "plt.stairs(counts, edges, fill=True)\n",
    "plt.show()"
   ]
  },
  {
   "cell_type": "markdown",
   "metadata": {},
   "source": [
    "d) Obwohl jede $n$-elementige Teilmenge mit derselben Wahrscheinlichkeit auftritt, empfindet man Mengen $\\omega \\subset \\{1,2,\\ldots,m\\}$, die viele aufeinander folgende Zahlen enthalten, als weniger \"zufällig\". Diese Eigenschaft quantifizieren wir nun durch die Zahl\n",
    "\n",
    "\\begin{equation} X(\\omega) := \\max\\{ k \\, : \\, k \\text{ aufeinander folgende Zahlen gehören zu } \\omega \\}\\, . \\end{equation}\n",
    "\n",
    "Explizite Formeln für die Wahrscheinlichkeiten\n",
    "\n",
    "\\begin{equation} p_X(k) = \\mathbb{P}[X = k] \\end{equation}\n",
    "\n",
    "unter der Gleichverteilung auf den $n$-elementigen Teilmengen von $\\{1,2,\\ldots,m\\}$ sind schwierig zu finden. Ein möglicher Ausweg sind Monte Carlo Schätzer. Dazu simuliert man $s$ zufällige $n$-elementige Teilmengen $\\omega_1, \\ldots, \\omega_s$ und berechnet die relativen Häufigkeiten\n",
    "\n",
    "\\begin{equation} \\hat p_X(k) = \\frac{ \\big|\\{ 1 \\leq i \\leq s \\, : \\, X(\\omega_i) = k \\}\\big| }{s} \\end{equation}\n",
    "\n",
    "als Schätzwert für die Wahrscheinlichkeiten $p_X(k)$.\n",
    "\n",
    "Berechnen Sie Monte-Carlo Schätzer für $n=15$, $m=30$ und verschiedene Werte $s$ zwischen $1$ und $1000$. Stellen Sie $\\hat p_X$ jeweils graphisch dar."
   ]
  },
  {
   "cell_type": "code",
   "execution_count": 28,
   "metadata": {},
   "outputs": [
    {
     "data": {
      "application/vnd.jupyter.widget-view+json": {
       "model_id": "43324cbb49974f1686cd23224f3bb800",
       "version_major": 2,
       "version_minor": 0
      },
      "text/plain": [
       "interactive(children=(IntSlider(value=500, description='nSubsets', max=1000, min=1), Output()), _dom_classes=(…"
      ]
     },
     "execution_count": 28,
     "metadata": {},
     "output_type": "execute_result"
    }
   ],
   "source": [
    "# Fuegen Sie hier Ihre Loesung ein.\n",
    "def get_amount_of_following_numbers(subset : list):\n",
    "    subset.sort()\n",
    "    temp_amount = 1\n",
    "    max_amount = 1\n",
    "    for i in range(len(subset) - 1):\n",
    "        if (subset[i]+1) == subset[i+1]:\n",
    "            temp_amount += 1\n",
    "        else:\n",
    "            if temp_amount > max_amount: \n",
    "                max_amount = temp_amount\n",
    "            temp_amount = 1\n",
    "    return max_amount\n",
    "\n",
    "def plot_monte_carlo_empirical_distribution(nSubsets : int):\n",
    "    m = 30\n",
    "    n = 15\n",
    "    values_list = []\n",
    "    for _ in range(nSubsets):\n",
    "        subset = rsubset(m, n)\n",
    "        values_list.append(get_amount_of_following_numbers(subset))\n",
    "\n",
    "    counts, edges = np.histogram(values_list, np.arange(0, 16, 1), density=True)\n",
    "    plt.stairs(counts, edges, fill=True)\n",
    "    plt.show()\n",
    "\n",
    "interactive(plot_monte_carlo_empirical_distribution, nSubsets=(1, 1000, 1))   "
   ]
  }
 ],
 "metadata": {
  "anaconda-cloud": {},
  "kernelspec": {
   "display_name": "Python 3 (ipykernel)",
   "language": "python",
   "name": "python3"
  },
  "language_info": {
   "codemirror_mode": {
    "name": "ipython",
    "version": 3
   },
   "file_extension": ".py",
   "mimetype": "text/x-python",
   "name": "python",
   "nbconvert_exporter": "python",
   "pygments_lexer": "ipython3",
   "version": "3.10.6"
  }
 },
 "nbformat": 4,
 "nbformat_minor": 1
}
