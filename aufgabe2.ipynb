{
 "cells": [
  {
   "cell_type": "markdown",
   "metadata": {},
   "source": [
    "## Programmieraufgabe 2  "
   ]
  },
  {
   "cell_type": "markdown",
   "metadata": {},
   "source": [
    "<span style=\"color:red; font-weight: bold\">Wichtig: Damit alle ben&ouml;tigten Pakete richtig eingebunden werden, f&uuml;hren Sie die n&auml;chste Zelle einmal aus, sobald Sie das Notebook neu &ouml;ffnen.</span>"
   ]
  },
  {
   "cell_type": "code",
   "execution_count": 3,
   "metadata": {
    "collapsed": false
   },
   "outputs": [],
   "source": [
    "# some setup\n",
    "import numpy as np # makes numpy routines and data types available as np.[name ouf routine or data type]\n",
    "import matplotlib.pyplot as plt # makes plotting command available as plt.[name of command]\n",
    "\n",
    "from ipywidgets import interactive\n",
    "import random"
   ]
  },
  {
   "cell_type": "markdown",
   "metadata": {},
   "source": [
    "## W&uuml;rfeln II\n",
    "\n",
    "a)  Erzeugen Sie eine Liste mit $n = 100$ Zufallszahlen aus der Menge $\\{ 1,2,3,4,5,6 \\}$,\n",
    "und bestimmen Sie, wie oft die Zahl 6 in der Liste vorkommt. \n",
    "Welche Verteilung hat die Zufallsvariable $Z(\\omega)$, die dieses Zufallsexperiment modelliert?\n",
    "\n",
    "b)  Wir wiederholen das Experiment nun $m = 1000$ mal. \n",
    "Speichern  Sie  in  einer  Liste $z$ die beobachteten (relativen) H&auml;ufigkeiten der Zahl 6 in jeder der $m$ Stichproben von jeweils $n$ Zufallszahlen.\n",
    "\n",
    "c)  Die  Liste $z$ enth&auml;lt nun  $m$  (pseudozuf&auml;llige)  Realisierungen  der  Werte  der  Zufallsvariablen $Z$. \n",
    "Erstellen Sie ein Histogramm von $z$. \n",
    "Zeichnen Sie das Histogramm in  ein  Diagramm  zusammen  mit  der  Massenfunktion ($\\texttt{scipy.stats.binom.pmf}$)  der  Zufallsvariablen $Z$ \n",
    "und vergleichen Sie.\n",
    "\n",
    "d)  Erstellen Sie mithilfe von $\\texttt{interactive}$ ein entsprechendes Histogramm f&uuml;r die ersten\n",
    "$k$ Werte der Liste $z$, wobei $k$ zwischen 1 und $m$ variiert werden kann. Was beobachten Sie?"
   ]
  },
  {
   "cell_type": "code",
   "execution_count": 9,
   "metadata": {},
   "outputs": [
    {
     "name": "stdout",
     "output_type": "stream",
     "text": [
      "19\n"
     ]
    }
   ],
   "source": [
    "import scipy.stats\n",
    "random.seed(\"MirkisUsoltsevaLevchenko\")\n",
    "\n",
    "# Fuegen Sie hier Ihre Loesung ein.\n",
    "z = []\n",
    "nSixes = 0\n",
    "for i in range(100):\n",
    "    temp = random.randint(1, 6)\n",
    "    z.append(temp)\n",
    "    if (temp == 6):\n",
    "        nSixes += 1\n",
    "print(nSixes)"
   ]
  },
  {
   "cell_type": "code",
   "execution_count": 10,
   "metadata": {},
   "outputs": [
    {
     "data": {
      "image/png": "[encoded data removed]",
      "text/plain": [
       "<Figure size 640x480 with 1 Axes>"
      ]
     },
     "metadata": {},
     "output_type": "display_data"
    }
   ],
   "source": [
    "# b) + c)\n",
    "def get_nSixes_list(nThrows, nTrials):\n",
    "    nSixes = np.zeros(nTrials)\n",
    "    \n",
    "    for i in range(nTrials):\n",
    "        for j in range(nThrows):\n",
    "            if random.randint(1, 6) == 6:\n",
    "                nSixes[i] += 1\n",
    "        \n",
    "    return nSixes\n",
    "\n",
    "n = 100\n",
    "m = 1000\n",
    "z = get_nSixes_list(n, m)\n",
    "right_border = z.max() + 5\n",
    "\n",
    "counts, edges = np.histogram(z, np.arange(0, right_border, 1), density=True)\n",
    "plt.stairs(counts, edges, fill=True)\n",
    "plt.plot(scipy.stats.binom.pmf(np.arange(0, right_border, 1), n, 1/6))\n",
    "plt.show()"
   ]
  },
  {
   "cell_type": "code",
   "execution_count": 11,
   "metadata": {},
   "outputs": [
    {
     "data": {
      "application/vnd.jupyter.widget-view+json": {
       "model_id": "bf21579c84194c8993376248de94401e",
       "version_major": 2,
       "version_minor": 0
      },
      "text/plain": [
       "interactive(children=(IntSlider(value=500, description='nTrials', max=1000, min=1), IntSlider(value=100, descr…"
      ]
     },
     "execution_count": 11,
     "metadata": {},
     "output_type": "execute_result"
    }
   ],
   "source": [
    "# d)you can also change nThrows\n",
    "def plot_distribution(nTrials, nThrows):\n",
    "    nSixes_list = get_nSixes_list(nThrows, nTrials)\n",
    "    right_border = nSixes_list.max() + 5\n",
    "\n",
    "    counts, edges = np.histogram(nSixes_list, np.arange(0, right_border, 1), density=True)\n",
    "    plt.stairs(counts, edges, fill=True)\n",
    "    plt.plot(scipy.stats.binom.pmf(np.arange(0, right_border, 1), nThrows, 1/6))\n",
    "    plt.show()\n",
    "\n",
    "n = 100\n",
    "m = 1000\n",
    "interactive(plot_distribution, nThrows=(n//2, 2*n, n//2), nTrials = (1, m, 1))"
   ]
  }
 ],
 "metadata": {
  "anaconda-cloud": {},
  "kernelspec": {
   "display_name": "Python 3",
   "language": "python",
   "name": "python3"
  },
  "language_info": {
   "codemirror_mode": {
    "name": "ipython",
    "version": 3
   },
   "file_extension": ".py",
   "mimetype": "text/x-python",
   "name": "python",
   "nbconvert_exporter": "python",
   "pygments_lexer": "ipython3",
   "version": "3.10.6"
  }
 },
 "nbformat": 4,
 "nbformat_minor": 0
}
